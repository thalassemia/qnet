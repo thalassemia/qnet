{
 "metadata": {
  "language_info": {
   "codemirror_mode": {
    "name": "ipython",
    "version": 3
   },
   "file_extension": ".py",
   "mimetype": "text/x-python",
   "name": "python",
   "nbconvert_exporter": "python",
   "pygments_lexer": "ipython3",
   "version": "3.8.3-final"
  },
  "orig_nbformat": 2,
  "kernelspec": {
   "name": "python3",
   "display_name": "Python 3"
  }
 },
 "nbformat": 4,
 "nbformat_minor": 2,
 "cells": [
  {
   "cell_type": "code",
   "execution_count": 5,
   "metadata": {},
   "outputs": [
    {
     "output_type": "execute_result",
     "data": {
      "text/plain": [
       "['H3K4me3',\n",
       " 'H3K36me3',\n",
       " 'H3K27me3',\n",
       " 'H4K20me1',\n",
       " 'H3K9ac',\n",
       " 'H3K27ac',\n",
       " 'H3K79me2',\n",
       " 'H3K9me3',\n",
       " 'H3K4me2',\n",
       " 'H3K4me1',\n",
       " 'H1.4',\n",
       " 'H1.0']"
      ]
     },
     "metadata": {},
     "execution_count": 5
    }
   ],
   "source": [
    "import pandas as pd\n",
    "import os\n",
    "from shutil import copyfile\n",
    "\n",
    "key = pd.read_csv(os.path.expandvars(\"$SCRATCH/hmchip/human_hm_full_QC.txt\"), sep = \"\\t\")\n",
    "key = key.loc[(key[\"Cell_type\"] == \"Fibroblast\") & (key[\"Tissue_type\"] == \"Skin\")]\n",
    "keyHQ = key.loc[(key[\"FastQC\"]>=25) & (key[\"UniquelyMappedRatio\"]>=0.5) & (key[\"PBC\"]>=0.5)]\n",
    "key.sort_values(by = [\"FRiP\"], ascending = False, inplace = True)\n",
    "keyHQ.drop_duplicates(\"Factor\")[\"Factor\"].tolist()"
   ]
  },
  {
   "source": [
    "import glob\n",
    "for i in range(keyHQ.shape[0]):\n",
    "    bed = glob.glob(os.path.expandvars(\"$SCRATCH/hchip/human_hm/\" + str(keyHQ.iloc[i, 0]) + \"*.bed\"))\n",
    "    os.makedirs(os.path.expandvars(\"$SCRATCH/hmchip/dermFib/\" + keyHQ.iloc[i, 3] + \"/\"), exist_ok = True)\n",
    "    copyfile(bed[0], os.path.expandvars(\"$SCRATCH/hmchip/dermFib/\" + keyHQ.iloc[i, 3] + \"/\" + str(i) + \".bed\"))"
   ],
   "cell_type": "code",
   "metadata": {},
   "execution_count": 24,
   "outputs": []
  },
  {
   "cell_type": "code",
   "execution_count": 19,
   "metadata": {},
   "outputs": [
    {
     "output_type": "execute_result",
     "data": {
      "text/plain": [
       "3122      H3K4me3\n",
       "3127      H3K4me3\n",
       "3129      H3K4me3\n",
       "3132     H3K36me3\n",
       "3133     H3K27me3\n",
       "           ...   \n",
       "10792    H3K27me3\n",
       "10794    H3K27me3\n",
       "10955     H3K9me3\n",
       "10956     H3K9me3\n",
       "10957     H3K9me3\n",
       "Name: Factor, Length: 76, dtype: object"
      ]
     },
     "metadata": {},
     "execution_count": 19
    }
   ],
   "source": [
    "keyHQ.iloc[:, 3]"
   ]
  }
 ]
}