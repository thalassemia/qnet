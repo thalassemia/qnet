{
 "cells": [
  {
   "cell_type": "code",
   "execution_count": 1,
   "metadata": {},
   "outputs": [
    {
     "output_type": "stream",
     "name": "stdout",
     "text": [
      "LISA Down: (1316, 7)\n",
      "LISA Up: (1316, 7)\n",
      "ChEA Down: (1632, 6)\n",
      "ChEA Down: (1632, 6)\n",
      "ChEA Down 500: (1632, 6)\n",
      "ChEA Down 500: (1632, 6)\n"
     ]
    }
   ],
   "source": [
    "import pandas as pd\n",
    "import os\n",
    "\n",
    "ld = pd.read_csv(\"/u/scratch/s/seanchea/data/trs/LisaDown.csv\")\n",
    "lu = pd.read_csv(\"/u/scratch/s/seanchea/data/trs/LisaUp.csv\")\n",
    "cd = pd.read_table(\"/u/scratch/s/seanchea/data/trs/ChEADown.tsv\")\n",
    "cu = pd.read_table(\"/u/scratch/s/seanchea/data/trs/ChEAUp.tsv\")\n",
    "print(f\"LISA Down: {ld.shape}\")\n",
    "print(f\"LISA Up: {lu.shape}\")\n",
    "print(f\"ChEA Down: {cd.shape}\")\n",
    "print(f\"ChEA Down: {cu.shape}\")\n",
    "\n",
    "ld.rename(columns={\"Transcription Factor\": \"TF\"}, inplace=True)\n",
    "ld = ld.loc[(ld[\"1st Sample p-value\"] < 0.05), ]\n",
    "lu.rename(columns={\"Transcription Factor\": \"TF\"}, inplace=True)\n",
    "lu = lu.loc[(lu[\"1st Sample p-value\"] < 0.05), ]\n",
    "down = ld.merge(cd, on=\"TF\")\n",
    "up = lu.merge(cu, on=\"TF\")\n",
    "\n",
    "cd500 = pd.read_table(\"/u/scratch/s/seanchea/data/trs/ChEADown500.tsv\")\n",
    "cu500 = pd.read_table(\"/u/scratch/s/seanchea/data/trs/ChEAUp500.tsv\")\n",
    "print(f\"ChEA Down 500: {cd500.shape}\")\n",
    "print(f\"ChEA Down 500: {cu500.shape}\")\n",
    "\n",
    "down500 = ld.merge(cd500, on=\"TF\")\n",
    "up500 = lu.merge(cu500, on=\"TF\")"
   ]
  },
  {
   "cell_type": "code",
   "execution_count": 2,
   "metadata": {
    "scrolled": true
   },
   "outputs": [
    {
     "output_type": "stream",
     "name": "stdout",
     "text": [
      "# of TF's in top 10 for LISA and ChEA (down): 3\n# of TF's in top 10 for both LISA and ChEA (up): 0\n# of TF's in top 100 for LISA and ChEA (down): 13\n# of TF's in top 100 for both LISA and ChEA (up): 15\n# of TF's in top 1000 for LISA and ChEA (down): 429\n# of TF's in top 1000 for both LISA and ChEA (up): 237\n# of TF's in top 2000 for LISA and ChEA (down): 545\n# of TF's in top 2000 for both LISA and ChEA (up): 299\n"
     ]
    }
   ],
   "source": [
    "rankThresholds = [10, 100, 1000, 2000] # 2000 is basically no threshold\n",
    "for threshold in rankThresholds:\n",
    "    Top = down.loc[(down[\"rank\"] < threshold),]\n",
    "    Top = Top.loc[(Top[\"Rank\"] < threshold),]\n",
    "    print(f\"# of TF's in top {threshold} for LISA and ChEA (down): {Top.shape[0]}\")\n",
    "    Top = up.loc[(up[\"rank\"] < threshold),]\n",
    "    Top = Top.loc[(Top[\"Rank\"] < threshold),]\n",
    "    print(f\"# of TF's in top {threshold} for both LISA and ChEA (up): {Top.shape[0]}\")"
   ]
  },
  {
   "cell_type": "code",
   "execution_count": 3,
   "metadata": {},
   "outputs": [
    {
     "output_type": "stream",
     "name": "stdout",
     "text": [
      "# of TF's in top 10 for LISA and ChEA (down): 3\n# of TF's in top 10 for both LISA and ChEA (up): 1\n# of TF's in top 100 for LISA and ChEA (down): 15\n# of TF's in top 100 for both LISA and ChEA (up): 17\n# of TF's in top 1000 for LISA and ChEA (down): 417\n# of TF's in top 1000 for both LISA and ChEA (up): 235\n# of TF's in top 2000 for LISA and ChEA (down): 545\n# of TF's in top 2000 for both LISA and ChEA (up): 299\n"
     ]
    }
   ],
   "source": [
    "rankThresholds = [10, 100, 1000, 2000] # 2000 is basically no threshold\n",
    "for threshold in rankThresholds:\n",
    "    Top = down500.loc[(down500[\"rank\"] < threshold),]\n",
    "    Top = Top.loc[(Top[\"Rank\"] < threshold),]\n",
    "    print(f\"# of TF's in top {threshold} for LISA and ChEA (down): {Top.shape[0]}\")\n",
    "    Top = up500.loc[(up500[\"rank\"] < threshold),]\n",
    "    Top = Top.loc[(Top[\"Rank\"] < threshold),]\n",
    "    print(f\"# of TF's in top {threshold} for both LISA and ChEA (up): {Top.shape[0]}\")"
   ]
  },
  {
   "cell_type": "code",
   "execution_count": 4,
   "metadata": {},
   "outputs": [
    {
     "output_type": "execute_result",
     "data": {
      "text/plain": [
       "      TF  rank  1st Sample p-value  2nd Sample p-value  3rd Sample p-value  \\\n",
       "1   E2F1     2       3.510000e-101        9.580000e-92        6.520000e-89   \n",
       "2  TFDP1     4        4.320000e-69        4.450000e-63        1.610000e-61   \n",
       "3  FOXM1     5        9.490000e-62        5.460000e-60        1.320000e-54   \n",
       "\n",
       "   4th Sample p-value  5th Sample p-value      Query Name  Rank  Score  \\\n",
       "1        9.680000e-87        6.500000e-84  gene_set_query     3  6.333   \n",
       "2        5.280000e-55        2.330000e-54  gene_set_query     5  8.750   \n",
       "3        2.540000e-53        1.390000e-52  gene_set_query     1  2.000   \n",
       "\n",
       "                                             Library  \\\n",
       "1  Literature ChIP-seq,5;ARCHS4 Coexpression,8;EN...   \n",
       "2  ARCHS4 Coexpression,9;Enrichr Queries,12;ReMap...   \n",
       "3  Literature ChIP-seq,1;ARCHS4 Coexpression,6;EN...   \n",
       "\n",
       "                                   Overlapping_Genes  \n",
       "1  JPT1,TFRC,VARS,ARL6IP1,JPT2,RTCA,CCNF,ARPC5L,M...  \n",
       "2  JPT1,VARS,TFRC,POP1,JPT2,CCNF,MKI67,NOC2L,SMC4...  \n",
       "3  JPT1,ARL6IP1,VARS,POP1,JPT2,CCNF,MKI67,NOC2L,S...  "
      ],
      "text/html": "<div>\n<style scoped>\n    .dataframe tbody tr th:only-of-type {\n        vertical-align: middle;\n    }\n\n    .dataframe tbody tr th {\n        vertical-align: top;\n    }\n\n    .dataframe thead th {\n        text-align: right;\n    }\n</style>\n<table border=\"1\" class=\"dataframe\">\n  <thead>\n    <tr style=\"text-align: right;\">\n      <th></th>\n      <th>TF</th>\n      <th>rank</th>\n      <th>1st Sample p-value</th>\n      <th>2nd Sample p-value</th>\n      <th>3rd Sample p-value</th>\n      <th>4th Sample p-value</th>\n      <th>5th Sample p-value</th>\n      <th>Query Name</th>\n      <th>Rank</th>\n      <th>Score</th>\n      <th>Library</th>\n      <th>Overlapping_Genes</th>\n    </tr>\n  </thead>\n  <tbody>\n    <tr>\n      <th>1</th>\n      <td>E2F1</td>\n      <td>2</td>\n      <td>3.510000e-101</td>\n      <td>9.580000e-92</td>\n      <td>6.520000e-89</td>\n      <td>9.680000e-87</td>\n      <td>6.500000e-84</td>\n      <td>gene_set_query</td>\n      <td>3</td>\n      <td>6.333</td>\n      <td>Literature ChIP-seq,5;ARCHS4 Coexpression,8;EN...</td>\n      <td>JPT1,TFRC,VARS,ARL6IP1,JPT2,RTCA,CCNF,ARPC5L,M...</td>\n    </tr>\n    <tr>\n      <th>2</th>\n      <td>TFDP1</td>\n      <td>4</td>\n      <td>4.320000e-69</td>\n      <td>4.450000e-63</td>\n      <td>1.610000e-61</td>\n      <td>5.280000e-55</td>\n      <td>2.330000e-54</td>\n      <td>gene_set_query</td>\n      <td>5</td>\n      <td>8.750</td>\n      <td>ARCHS4 Coexpression,9;Enrichr Queries,12;ReMap...</td>\n      <td>JPT1,VARS,TFRC,POP1,JPT2,CCNF,MKI67,NOC2L,SMC4...</td>\n    </tr>\n    <tr>\n      <th>3</th>\n      <td>FOXM1</td>\n      <td>5</td>\n      <td>9.490000e-62</td>\n      <td>5.460000e-60</td>\n      <td>1.320000e-54</td>\n      <td>2.540000e-53</td>\n      <td>1.390000e-52</td>\n      <td>gene_set_query</td>\n      <td>1</td>\n      <td>2.000</td>\n      <td>Literature ChIP-seq,1;ARCHS4 Coexpression,6;EN...</td>\n      <td>JPT1,ARL6IP1,VARS,POP1,JPT2,CCNF,MKI67,NOC2L,S...</td>\n    </tr>\n  </tbody>\n</table>\n</div>"
     },
     "metadata": {},
     "execution_count": 4
    }
   ],
   "source": [
    "Top = down500.loc[(down500[\"rank\"] < 10),]\n",
    "Top.loc[(Top[\"Rank\"] < 10),]"
   ]
  },
  {
   "cell_type": "code",
   "execution_count": 5,
   "metadata": {},
   "outputs": [
    {
     "output_type": "execute_result",
     "data": {
      "text/plain": [
       "      TF  rank  1st Sample p-value  2nd Sample p-value  3rd Sample p-value  \\\n",
       "4  TCF21     5        1.050000e-21        7.490000e-21        1.260000e-20   \n",
       "\n",
       "   4th Sample p-value  5th Sample p-value      Query Name  Rank  Score  \\\n",
       "4        9.760000e-13                 NaN  gene_set_query     9  18.75   \n",
       "\n",
       "                                             Library  \\\n",
       "4  Literature ChIP-seq,1;ARCHS4 Coexpression,7;En...   \n",
       "\n",
       "                                   Overlapping_Genes  \n",
       "4  RIPOR3,SPON2,SERPINE2,GALNT16,CD81,COL12A1,MRG...  "
      ],
      "text/html": "<div>\n<style scoped>\n    .dataframe tbody tr th:only-of-type {\n        vertical-align: middle;\n    }\n\n    .dataframe tbody tr th {\n        vertical-align: top;\n    }\n\n    .dataframe thead th {\n        text-align: right;\n    }\n</style>\n<table border=\"1\" class=\"dataframe\">\n  <thead>\n    <tr style=\"text-align: right;\">\n      <th></th>\n      <th>TF</th>\n      <th>rank</th>\n      <th>1st Sample p-value</th>\n      <th>2nd Sample p-value</th>\n      <th>3rd Sample p-value</th>\n      <th>4th Sample p-value</th>\n      <th>5th Sample p-value</th>\n      <th>Query Name</th>\n      <th>Rank</th>\n      <th>Score</th>\n      <th>Library</th>\n      <th>Overlapping_Genes</th>\n    </tr>\n  </thead>\n  <tbody>\n    <tr>\n      <th>4</th>\n      <td>TCF21</td>\n      <td>5</td>\n      <td>1.050000e-21</td>\n      <td>7.490000e-21</td>\n      <td>1.260000e-20</td>\n      <td>9.760000e-13</td>\n      <td>NaN</td>\n      <td>gene_set_query</td>\n      <td>9</td>\n      <td>18.75</td>\n      <td>Literature ChIP-seq,1;ARCHS4 Coexpression,7;En...</td>\n      <td>RIPOR3,SPON2,SERPINE2,GALNT16,CD81,COL12A1,MRG...</td>\n    </tr>\n  </tbody>\n</table>\n</div>"
     },
     "metadata": {},
     "execution_count": 5
    }
   ],
   "source": [
    "Top = up500.loc[(up[\"rank\"] < 10),]\n",
    "Top.loc[(Top[\"Rank\"] < 10),]"
   ]
  },
  {
   "cell_type": "code",
   "execution_count": 20,
   "metadata": {},
   "outputs": [],
   "source": [
    "de = pd.read_csv(os.path.expandvars(\"$SCRATCH/data/bsf.csv\"), sep = \"\\t\", header = None)\n",
    "de = de.loc[de[2] < 0.05]\n",
    "de.rename(columns = {0: \"gene_name\", 1: \"log2FoldChange\"}, inplace = True)\n",
    "\n",
    "chea = pd.read_csv(os.path.expandvars(\"$SCRATCH/data/chea3.tsv\"), sep = \"\\t\")\n",
    "chea.rename(columns = {\"TF\": \"gene_name\"}, inplace = True)\n",
    "chea = chea.iloc[0:200, :]\n",
    "\n",
    "lisa = pd.read_csv(os.path.expandvars(\"$SCRATCH/data/lisa.csv\"))\n",
    "lisa.rename(columns = {\"Transcription Factor\":\"gene_name\"}, inplace = True)\n",
    "lisa = lisa.iloc[0:200, :]"
   ]
  },
  {
   "cell_type": "code",
   "execution_count": 6,
   "metadata": {},
   "outputs": [],
   "source": [
    "de = pd.read_csv(os.path.expandvars(\"$SCRATCH/data/deTF.csv\"))\n",
    "de = de.loc[de[\"padj\"] < 0.05]\n",
    "\n",
    "chea = pd.read_csv(os.path.expandvars(\"$SCRATCH/data/chea3.tsv\"), sep = \"\\t\")\n",
    "chea.rename(columns = {\"TF\": \"gene_name\"}, inplace = True)\n",
    "chea = chea.iloc[0:200, :]\n",
    "\n",
    "lisa = pd.read_csv(os.path.expandvars(\"$SCRATCH/data/lisa.csv\"))\n",
    "lisa.rename(columns = {\"Transcription Factor\":\"gene_name\"}, inplace = True)\n",
    "lisa = lisa.iloc[0:200, :]"
   ]
  },
  {
   "cell_type": "code",
   "execution_count": 7,
   "metadata": {},
   "outputs": [
    {
     "output_type": "execute_result",
     "data": {
      "text/plain": [
       "     Unnamed: 0     X       Ensembl.ID gene_name               DBD Is.TF.  \\\n",
       "0             1  1298  ENSG00000115844      DLX2       Homeodomain    Yes   \n",
       "1             2  1297  ENSG00000144355      DLX1       Homeodomain    Yes   \n",
       "2             3  1299  ENSG00000064195      DLX3       Homeodomain    Yes   \n",
       "3             4   839  ENSG00000197472    ZNF695           C2H2 ZF    Yes   \n",
       "4             5    60  ENSG00000168874     ATOH8              bHLH    Yes   \n",
       "..          ...   ...              ...       ...               ...    ...   \n",
       "214         215  1616  ENSG00000151623     NR3C2  Nuclear receptor    Yes   \n",
       "215         216  1507  ENSG00000137265      IRF4               IRF    Yes   \n",
       "216         217   258  ENSG00000122877      EGR2           C2H2 ZF    Yes   \n",
       "217         218  1439  ENSG00000165495    PKNOX2       Homeodomain    Yes   \n",
       "218         219  1379  ENSG00000159387      IRX6       Homeodomain    Yes   \n",
       "\n",
       "      TF.assessment             Binding.mode              Motif.status  \\\n",
       "0       Known motif  Monomer or homomultimer  High-throughput in vitro   \n",
       "1       Known motif  Monomer or homomultimer  High-throughput in vitro   \n",
       "2       Known motif  Monomer or homomultimer  High-throughput in vitro   \n",
       "3       Known motif  Monomer or homomultimer       In vivo/Misc source   \n",
       "4    Inferred motif  Monomer or homomultimer  High-throughput in vitro   \n",
       "..              ...                      ...                       ...   \n",
       "214     Known motif  Monomer or homomultimer  High-throughput in vitro   \n",
       "215     Known motif  Monomer or homomultimer  High-throughput in vitro   \n",
       "216     Known motif  Monomer or homomultimer  High-throughput in vitro   \n",
       "217     Known motif  Monomer or homomultimer  High-throughput in vitro   \n",
       "218  Inferred motif  Monomer or homomultimer  High-throughput in vitro   \n",
       "\n",
       "                                           Final.Notes  ...  \\\n",
       "0                                                 None  ...   \n",
       "1                                                 None  ...   \n",
       "2                                                 None  ...   \n",
       "3    Motif obtained from MEME - not supported by re...  ...   \n",
       "4                                                 None  ...   \n",
       "..                                                 ...  ...   \n",
       "214                                               None  ...   \n",
       "215                                               None  ...   \n",
       "216                                               None  ...   \n",
       "217                                               None  ...   \n",
       "218                                               None  ...   \n",
       "\n",
       "                             Pfam.Domains..By.ENSP.ID. Is.C2H2.ZF.KRAB..  \\\n",
       "0    $#ENSP00000234198#ENSG00000115844#ENST00000234...             False   \n",
       "1    $#ENSP00000341786#ENSG00000144355#ENST00000341...             False   \n",
       "2    $#ENSP00000389870#ENSG00000064195#ENST00000434...             False   \n",
       "3    $#ENSP00000341236#ENSG00000197472#ENST00000339...              True   \n",
       "4    $#ENSP00000304676#ENSG00000168874#ENST00000306...             False   \n",
       "..                                                 ...               ...   \n",
       "214  $#ENSP00000350815#ENSG00000151623#ENST00000358...             False   \n",
       "215  $#ENSP00000370343#ENSG00000137265#ENST00000380...             False   \n",
       "216  $#ENSP00000242480#ENSG00000122877#ENST00000242...             False   \n",
       "217  $#ENSP00000298282#ENSG00000165495#ENST00000298...             False   \n",
       "218  $#ENSP00000290552#ENSG00000159387#ENST00000290...             False   \n",
       "\n",
       "                gene_id    baseMean log2FoldChange     lfcSE       stat  \\\n",
       "0    ENSG00000115844.10  114.496612      -5.598694  0.502927 -11.132211   \n",
       "1    ENSG00000144355.14    7.834146      -4.655044  1.356010  -3.432899   \n",
       "2     ENSG00000064195.7    7.618099      -3.944613  1.394667  -2.828354   \n",
       "3    ENSG00000197472.14   32.702460      -3.689716  0.562682  -6.557370   \n",
       "4    ENSG00000168874.12  667.570500      -3.574680  0.185530 -19.267410   \n",
       "..                  ...         ...            ...       ...        ...   \n",
       "214  ENSG00000151623.14    5.032136       4.063322  1.680244   2.418292   \n",
       "215  ENSG00000137265.14    9.886449       4.252300  1.683326   2.526130   \n",
       "216  ENSG00000122877.15  130.627800       4.585380  0.928095   4.940636   \n",
       "217  ENSG00000165495.15   11.137840       4.995630  1.655042   3.018431   \n",
       "218   ENSG00000159387.7   31.255390       8.354014  1.282354   6.514591   \n",
       "\n",
       "           pvalue          padj       gene_type  \n",
       "0    8.740000e-29  1.080000e-26  protein_coding  \n",
       "1    5.970000e-04  2.538744e-03  protein_coding  \n",
       "2    4.678811e-03  1.540088e-02  protein_coding  \n",
       "3    5.480000e-11  9.180000e-10  protein_coding  \n",
       "4    1.010000e-82  1.850000e-79  protein_coding  \n",
       "..            ...           ...             ...  \n",
       "214  1.559355e-02  4.310909e-02  protein_coding  \n",
       "215  1.153269e-02  3.347303e-02  protein_coding  \n",
       "216  7.790000e-07  6.300000e-06  protein_coding  \n",
       "217  2.540876e-03  9.077355e-03  protein_coding  \n",
       "218  7.290000e-11  1.200000e-09  protein_coding  \n",
       "\n",
       "[219 rows x 38 columns]"
      ],
      "text/html": "<div>\n<style scoped>\n    .dataframe tbody tr th:only-of-type {\n        vertical-align: middle;\n    }\n\n    .dataframe tbody tr th {\n        vertical-align: top;\n    }\n\n    .dataframe thead th {\n        text-align: right;\n    }\n</style>\n<table border=\"1\" class=\"dataframe\">\n  <thead>\n    <tr style=\"text-align: right;\">\n      <th></th>\n      <th>Unnamed: 0</th>\n      <th>X</th>\n      <th>Ensembl.ID</th>\n      <th>gene_name</th>\n      <th>DBD</th>\n      <th>Is.TF.</th>\n      <th>TF.assessment</th>\n      <th>Binding.mode</th>\n      <th>Motif.status</th>\n      <th>Final.Notes</th>\n      <th>...</th>\n      <th>Pfam.Domains..By.ENSP.ID.</th>\n      <th>Is.C2H2.ZF.KRAB..</th>\n      <th>gene_id</th>\n      <th>baseMean</th>\n      <th>log2FoldChange</th>\n      <th>lfcSE</th>\n      <th>stat</th>\n      <th>pvalue</th>\n      <th>padj</th>\n      <th>gene_type</th>\n    </tr>\n  </thead>\n  <tbody>\n    <tr>\n      <th>0</th>\n      <td>1</td>\n      <td>1298</td>\n      <td>ENSG00000115844</td>\n      <td>DLX2</td>\n      <td>Homeodomain</td>\n      <td>Yes</td>\n      <td>Known motif</td>\n      <td>Monomer or homomultimer</td>\n      <td>High-throughput in vitro</td>\n      <td>None</td>\n      <td>...</td>\n      <td>$#ENSP00000234198#ENSG00000115844#ENST00000234...</td>\n      <td>False</td>\n      <td>ENSG00000115844.10</td>\n      <td>114.496612</td>\n      <td>-5.598694</td>\n      <td>0.502927</td>\n      <td>-11.132211</td>\n      <td>8.740000e-29</td>\n      <td>1.080000e-26</td>\n      <td>protein_coding</td>\n    </tr>\n    <tr>\n      <th>1</th>\n      <td>2</td>\n      <td>1297</td>\n      <td>ENSG00000144355</td>\n      <td>DLX1</td>\n      <td>Homeodomain</td>\n      <td>Yes</td>\n      <td>Known motif</td>\n      <td>Monomer or homomultimer</td>\n      <td>High-throughput in vitro</td>\n      <td>None</td>\n      <td>...</td>\n      <td>$#ENSP00000341786#ENSG00000144355#ENST00000341...</td>\n      <td>False</td>\n      <td>ENSG00000144355.14</td>\n      <td>7.834146</td>\n      <td>-4.655044</td>\n      <td>1.356010</td>\n      <td>-3.432899</td>\n      <td>5.970000e-04</td>\n      <td>2.538744e-03</td>\n      <td>protein_coding</td>\n    </tr>\n    <tr>\n      <th>2</th>\n      <td>3</td>\n      <td>1299</td>\n      <td>ENSG00000064195</td>\n      <td>DLX3</td>\n      <td>Homeodomain</td>\n      <td>Yes</td>\n      <td>Known motif</td>\n      <td>Monomer or homomultimer</td>\n      <td>High-throughput in vitro</td>\n      <td>None</td>\n      <td>...</td>\n      <td>$#ENSP00000389870#ENSG00000064195#ENST00000434...</td>\n      <td>False</td>\n      <td>ENSG00000064195.7</td>\n      <td>7.618099</td>\n      <td>-3.944613</td>\n      <td>1.394667</td>\n      <td>-2.828354</td>\n      <td>4.678811e-03</td>\n      <td>1.540088e-02</td>\n      <td>protein_coding</td>\n    </tr>\n    <tr>\n      <th>3</th>\n      <td>4</td>\n      <td>839</td>\n      <td>ENSG00000197472</td>\n      <td>ZNF695</td>\n      <td>C2H2 ZF</td>\n      <td>Yes</td>\n      <td>Known motif</td>\n      <td>Monomer or homomultimer</td>\n      <td>In vivo/Misc source</td>\n      <td>Motif obtained from MEME - not supported by re...</td>\n      <td>...</td>\n      <td>$#ENSP00000341236#ENSG00000197472#ENST00000339...</td>\n      <td>True</td>\n      <td>ENSG00000197472.14</td>\n      <td>32.702460</td>\n      <td>-3.689716</td>\n      <td>0.562682</td>\n      <td>-6.557370</td>\n      <td>5.480000e-11</td>\n      <td>9.180000e-10</td>\n      <td>protein_coding</td>\n    </tr>\n    <tr>\n      <th>4</th>\n      <td>5</td>\n      <td>60</td>\n      <td>ENSG00000168874</td>\n      <td>ATOH8</td>\n      <td>bHLH</td>\n      <td>Yes</td>\n      <td>Inferred motif</td>\n      <td>Monomer or homomultimer</td>\n      <td>High-throughput in vitro</td>\n      <td>None</td>\n      <td>...</td>\n      <td>$#ENSP00000304676#ENSG00000168874#ENST00000306...</td>\n      <td>False</td>\n      <td>ENSG00000168874.12</td>\n      <td>667.570500</td>\n      <td>-3.574680</td>\n      <td>0.185530</td>\n      <td>-19.267410</td>\n      <td>1.010000e-82</td>\n      <td>1.850000e-79</td>\n      <td>protein_coding</td>\n    </tr>\n    <tr>\n      <th>...</th>\n      <td>...</td>\n      <td>...</td>\n      <td>...</td>\n      <td>...</td>\n      <td>...</td>\n      <td>...</td>\n      <td>...</td>\n      <td>...</td>\n      <td>...</td>\n      <td>...</td>\n      <td>...</td>\n      <td>...</td>\n      <td>...</td>\n      <td>...</td>\n      <td>...</td>\n      <td>...</td>\n      <td>...</td>\n      <td>...</td>\n      <td>...</td>\n      <td>...</td>\n      <td>...</td>\n    </tr>\n    <tr>\n      <th>214</th>\n      <td>215</td>\n      <td>1616</td>\n      <td>ENSG00000151623</td>\n      <td>NR3C2</td>\n      <td>Nuclear receptor</td>\n      <td>Yes</td>\n      <td>Known motif</td>\n      <td>Monomer or homomultimer</td>\n      <td>High-throughput in vitro</td>\n      <td>None</td>\n      <td>...</td>\n      <td>$#ENSP00000350815#ENSG00000151623#ENST00000358...</td>\n      <td>False</td>\n      <td>ENSG00000151623.14</td>\n      <td>5.032136</td>\n      <td>4.063322</td>\n      <td>1.680244</td>\n      <td>2.418292</td>\n      <td>1.559355e-02</td>\n      <td>4.310909e-02</td>\n      <td>protein_coding</td>\n    </tr>\n    <tr>\n      <th>215</th>\n      <td>216</td>\n      <td>1507</td>\n      <td>ENSG00000137265</td>\n      <td>IRF4</td>\n      <td>IRF</td>\n      <td>Yes</td>\n      <td>Known motif</td>\n      <td>Monomer or homomultimer</td>\n      <td>High-throughput in vitro</td>\n      <td>None</td>\n      <td>...</td>\n      <td>$#ENSP00000370343#ENSG00000137265#ENST00000380...</td>\n      <td>False</td>\n      <td>ENSG00000137265.14</td>\n      <td>9.886449</td>\n      <td>4.252300</td>\n      <td>1.683326</td>\n      <td>2.526130</td>\n      <td>1.153269e-02</td>\n      <td>3.347303e-02</td>\n      <td>protein_coding</td>\n    </tr>\n    <tr>\n      <th>216</th>\n      <td>217</td>\n      <td>258</td>\n      <td>ENSG00000122877</td>\n      <td>EGR2</td>\n      <td>C2H2 ZF</td>\n      <td>Yes</td>\n      <td>Known motif</td>\n      <td>Monomer or homomultimer</td>\n      <td>High-throughput in vitro</td>\n      <td>None</td>\n      <td>...</td>\n      <td>$#ENSP00000242480#ENSG00000122877#ENST00000242...</td>\n      <td>False</td>\n      <td>ENSG00000122877.15</td>\n      <td>130.627800</td>\n      <td>4.585380</td>\n      <td>0.928095</td>\n      <td>4.940636</td>\n      <td>7.790000e-07</td>\n      <td>6.300000e-06</td>\n      <td>protein_coding</td>\n    </tr>\n    <tr>\n      <th>217</th>\n      <td>218</td>\n      <td>1439</td>\n      <td>ENSG00000165495</td>\n      <td>PKNOX2</td>\n      <td>Homeodomain</td>\n      <td>Yes</td>\n      <td>Known motif</td>\n      <td>Monomer or homomultimer</td>\n      <td>High-throughput in vitro</td>\n      <td>None</td>\n      <td>...</td>\n      <td>$#ENSP00000298282#ENSG00000165495#ENST00000298...</td>\n      <td>False</td>\n      <td>ENSG00000165495.15</td>\n      <td>11.137840</td>\n      <td>4.995630</td>\n      <td>1.655042</td>\n      <td>3.018431</td>\n      <td>2.540876e-03</td>\n      <td>9.077355e-03</td>\n      <td>protein_coding</td>\n    </tr>\n    <tr>\n      <th>218</th>\n      <td>219</td>\n      <td>1379</td>\n      <td>ENSG00000159387</td>\n      <td>IRX6</td>\n      <td>Homeodomain</td>\n      <td>Yes</td>\n      <td>Inferred motif</td>\n      <td>Monomer or homomultimer</td>\n      <td>High-throughput in vitro</td>\n      <td>None</td>\n      <td>...</td>\n      <td>$#ENSP00000290552#ENSG00000159387#ENST00000290...</td>\n      <td>False</td>\n      <td>ENSG00000159387.7</td>\n      <td>31.255390</td>\n      <td>8.354014</td>\n      <td>1.282354</td>\n      <td>6.514591</td>\n      <td>7.290000e-11</td>\n      <td>1.200000e-09</td>\n      <td>protein_coding</td>\n    </tr>\n  </tbody>\n</table>\n<p>219 rows × 38 columns</p>\n</div>"
     },
     "metadata": {},
     "execution_count": 7
    }
   ],
   "source": [
    "de"
   ]
  },
  {
   "cell_type": "code",
   "execution_count": 8,
   "metadata": {},
   "outputs": [
    {
     "output_type": "stream",
     "name": "stdout",
     "text": [
      "# of DE TFs in ChEA3 Top 200: (59, 43) (30 upregulated and 29 downregulated)\n# of DE TFs in Lisa Top 200: (27, 44) (18 upregulated and 9 downregulated)\n"
     ]
    }
   ],
   "source": [
    "cheaM = de.merge(chea, on = \"gene_name\")\n",
    "cheaM.sort_values(by = \"Rank\", inplace = True)\n",
    "cheaMU = cheaM.loc[cheaM[\"log2FoldChange\"] > 0]\n",
    "cheaMD = cheaM.loc[cheaM[\"log2FoldChange\"] < 0]\n",
    "print(f\"# of DE TFs in ChEA3 Top 200: {cheaM.shape} ({cheaMU.shape[0]} upregulated and {cheaMD.shape[0]} downregulated)\")\n",
    "\n",
    "lisaM = de.merge(lisa, on = \"gene_name\")\n",
    "lisaM.sort_values(by = \"rank\", inplace = True)\n",
    "lisaMU = lisaM.loc[lisaM[\"log2FoldChange\"] > 0]\n",
    "lisaMD = lisaM.loc[lisaM[\"log2FoldChange\"] < 0]\n",
    "print(f\"# of DE TFs in Lisa Top 200: {lisaM.shape} ({lisaMU.shape[0]} upregulated and {lisaMD.shape[0]} downregulated)\")\n"
   ]
  },
  {
   "cell_type": "code",
   "execution_count": 9,
   "metadata": {},
   "outputs": [
    {
     "output_type": "stream",
     "name": "stdout",
     "text": [
      "# of TF's in top 10 for LISA and ChEA: 2\n# of TF's in top 100 for LISA and ChEA: 20\n# of TF's in top 1000 for LISA and ChEA: 54\n# of TF's in top 2000 for LISA and ChEA: 54\n"
     ]
    }
   ],
   "source": [
    "rankThresholds = [10, 100, 1000, 2000] # 2000 is basically no threshold\n",
    "merged = lisa.merge(chea, on = \"gene_name\")\n",
    "for threshold in rankThresholds:\n",
    "    Top = merged.loc[(merged[\"rank\"] < threshold),]\n",
    "    Top = Top.loc[(Top[\"Rank\"] < threshold),]\n",
    "    print(f\"# of TF's in top {threshold} for LISA and ChEA: {Top.shape[0]}\")"
   ]
  },
  {
   "cell_type": "code",
   "execution_count": 7,
   "metadata": {},
   "outputs": [
    {
     "output_type": "execute_result",
     "data": {
      "text/plain": [
       "    gene_name  rank  1st Sample p-value  2nd Sample p-value  \\\n",
       "0        E2F4     1        3.180000e-46        2.710000e-45   \n",
       "1       FOXM1     2        8.200000e-35        3.510000e-27   \n",
       "2        RNF2     3        2.640000e-32        4.200000e-13   \n",
       "3        E2F1     4        4.260000e-32        5.590000e-31   \n",
       "4       MYBL2     5        4.740000e-28        2.180000e-11   \n",
       "..        ...   ...                 ...                 ...   \n",
       "195    GTF2F1   196        1.380000e-07        1.260000e-04   \n",
       "196     FEZF1   197        1.380000e-07        4.430000e-06   \n",
       "197     PARP1   198        1.410000e-07        3.180000e-07   \n",
       "198      BRD1   199        1.500000e-07        9.680000e-02   \n",
       "199      CDK6   200        1.570000e-07                 NaN   \n",
       "\n",
       "     3rd Sample p-value  4th Sample p-value  5th Sample p-value  \n",
       "0          1.690000e-43        2.330000e-40        6.940000e-33  \n",
       "1          9.080000e-21        7.720000e-19        2.730000e-18  \n",
       "2          1.670000e-07        1.100000e-05        1.270000e-04  \n",
       "3          5.640000e-28        6.040000e-27        1.750000e-26  \n",
       "4          3.760000e-06        3.950000e-06        7.240000e-05  \n",
       "..                  ...                 ...                 ...  \n",
       "195        9.030000e-04                 NaN                 NaN  \n",
       "196        6.740000e-04                 NaN                 NaN  \n",
       "197        3.950000e-06        7.090000e-06        9.030000e-02  \n",
       "198        2.150000e-01        3.330000e-01        3.610000e-01  \n",
       "199                 NaN                 NaN                 NaN  \n",
       "\n",
       "[200 rows x 7 columns]"
      ],
      "text/html": "<div>\n<style scoped>\n    .dataframe tbody tr th:only-of-type {\n        vertical-align: middle;\n    }\n\n    .dataframe tbody tr th {\n        vertical-align: top;\n    }\n\n    .dataframe thead th {\n        text-align: right;\n    }\n</style>\n<table border=\"1\" class=\"dataframe\">\n  <thead>\n    <tr style=\"text-align: right;\">\n      <th></th>\n      <th>gene_name</th>\n      <th>rank</th>\n      <th>1st Sample p-value</th>\n      <th>2nd Sample p-value</th>\n      <th>3rd Sample p-value</th>\n      <th>4th Sample p-value</th>\n      <th>5th Sample p-value</th>\n    </tr>\n  </thead>\n  <tbody>\n    <tr>\n      <th>0</th>\n      <td>E2F4</td>\n      <td>1</td>\n      <td>3.180000e-46</td>\n      <td>2.710000e-45</td>\n      <td>1.690000e-43</td>\n      <td>2.330000e-40</td>\n      <td>6.940000e-33</td>\n    </tr>\n    <tr>\n      <th>1</th>\n      <td>FOXM1</td>\n      <td>2</td>\n      <td>8.200000e-35</td>\n      <td>3.510000e-27</td>\n      <td>9.080000e-21</td>\n      <td>7.720000e-19</td>\n      <td>2.730000e-18</td>\n    </tr>\n    <tr>\n      <th>2</th>\n      <td>RNF2</td>\n      <td>3</td>\n      <td>2.640000e-32</td>\n      <td>4.200000e-13</td>\n      <td>1.670000e-07</td>\n      <td>1.100000e-05</td>\n      <td>1.270000e-04</td>\n    </tr>\n    <tr>\n      <th>3</th>\n      <td>E2F1</td>\n      <td>4</td>\n      <td>4.260000e-32</td>\n      <td>5.590000e-31</td>\n      <td>5.640000e-28</td>\n      <td>6.040000e-27</td>\n      <td>1.750000e-26</td>\n    </tr>\n    <tr>\n      <th>4</th>\n      <td>MYBL2</td>\n      <td>5</td>\n      <td>4.740000e-28</td>\n      <td>2.180000e-11</td>\n      <td>3.760000e-06</td>\n      <td>3.950000e-06</td>\n      <td>7.240000e-05</td>\n    </tr>\n    <tr>\n      <th>...</th>\n      <td>...</td>\n      <td>...</td>\n      <td>...</td>\n      <td>...</td>\n      <td>...</td>\n      <td>...</td>\n      <td>...</td>\n    </tr>\n    <tr>\n      <th>195</th>\n      <td>GTF2F1</td>\n      <td>196</td>\n      <td>1.380000e-07</td>\n      <td>1.260000e-04</td>\n      <td>9.030000e-04</td>\n      <td>NaN</td>\n      <td>NaN</td>\n    </tr>\n    <tr>\n      <th>196</th>\n      <td>FEZF1</td>\n      <td>197</td>\n      <td>1.380000e-07</td>\n      <td>4.430000e-06</td>\n      <td>6.740000e-04</td>\n      <td>NaN</td>\n      <td>NaN</td>\n    </tr>\n    <tr>\n      <th>197</th>\n      <td>PARP1</td>\n      <td>198</td>\n      <td>1.410000e-07</td>\n      <td>3.180000e-07</td>\n      <td>3.950000e-06</td>\n      <td>7.090000e-06</td>\n      <td>9.030000e-02</td>\n    </tr>\n    <tr>\n      <th>198</th>\n      <td>BRD1</td>\n      <td>199</td>\n      <td>1.500000e-07</td>\n      <td>9.680000e-02</td>\n      <td>2.150000e-01</td>\n      <td>3.330000e-01</td>\n      <td>3.610000e-01</td>\n    </tr>\n    <tr>\n      <th>199</th>\n      <td>CDK6</td>\n      <td>200</td>\n      <td>1.570000e-07</td>\n      <td>NaN</td>\n      <td>NaN</td>\n      <td>NaN</td>\n      <td>NaN</td>\n    </tr>\n  </tbody>\n</table>\n<p>200 rows × 7 columns</p>\n</div>"
     },
     "metadata": {},
     "execution_count": 7
    }
   ],
   "source": [
    "lisa"
   ]
  }
 ],
 "metadata": {
  "kernelspec": {
   "display_name": "Python 3",
   "language": "python",
   "name": "python3"
  },
  "language_info": {
   "codemirror_mode": {
    "name": "ipython",
    "version": 3
   },
   "file_extension": ".py",
   "mimetype": "text/x-python",
   "name": "python",
   "nbconvert_exporter": "python",
   "pygments_lexer": "ipython3",
   "version": "3.8.3-final"
  }
 },
 "nbformat": 4,
 "nbformat_minor": 4
}